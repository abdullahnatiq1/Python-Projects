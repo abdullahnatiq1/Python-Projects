{
 "cells": [
  {
   "cell_type": "code",
   "execution_count": 5,
   "id": "4b48237d",
   "metadata": {},
   "outputs": [
    {
     "name": "stdout",
     "output_type": "stream",
     "text": [
      "------ YOUR CART ------\n",
      "burger "
     ]
    },
    {
     "ename": "TypeError",
     "evalue": "unsupported operand type(s) for +=: 'int' and 'str'",
     "output_type": "error",
     "traceback": [
      "\u001b[1;31m---------------------------------------------------------------------------\u001b[0m",
      "\u001b[1;31mTypeError\u001b[0m                                 Traceback (most recent call last)",
      "Cell \u001b[1;32mIn[5], line 20\u001b[0m\n\u001b[0;32m     17\u001b[0m     \u001b[38;5;28mprint\u001b[39m(food,end\u001b[38;5;241m=\u001b[39m\u001b[38;5;124m\"\u001b[39m\u001b[38;5;124m \u001b[39m\u001b[38;5;124m\"\u001b[39m)\n\u001b[0;32m     19\u001b[0m \u001b[38;5;28;01mfor\u001b[39;00m price \u001b[38;5;129;01min\u001b[39;00m prices:\n\u001b[1;32m---> 20\u001b[0m     total \u001b[38;5;241m+\u001b[39m\u001b[38;5;241m=\u001b[39m price\n\u001b[0;32m     22\u001b[0m     \u001b[38;5;28mprint\u001b[39m()\n\u001b[0;32m     23\u001b[0m     \u001b[38;5;28mprint\u001b[39m(\u001b[38;5;124mf\u001b[39m\u001b[38;5;124m\"\u001b[39m\u001b[38;5;124mYour total is :$\u001b[39m\u001b[38;5;132;01m{\u001b[39;00mtotal\u001b[38;5;132;01m}\u001b[39;00m\u001b[38;5;124m\"\u001b[39m)\n",
      "\u001b[1;31mTypeError\u001b[0m: unsupported operand type(s) for +=: 'int' and 'str'"
     ]
    }
   ],
   "source": [
    "foods = []\n",
    "prices = []\n",
    "total = 0\n",
    "\n",
    "while True:\n",
    "    food = input(\"Enter food iteto buy (q t quit): \")\n",
    "    if food.lower() == 'q':\n",
    "        break\n",
    "    else:\n",
    "        price = input(f\"Enter price for {food}: $\")\n",
    "        foods.append(food)\n",
    "        prices.append(price)\n",
    "    \n",
    "    print(\"------ YOUR CART ------\")\n",
    "\n",
    "    for food in foods:\n",
    "        print(food,end=\" \")\n",
    "\n",
    "    for price in prices:\n",
    "        total += price\n",
    "\n",
    "        print()\n",
    "        print(f\"Your total is :${total}\")\n",
    "\n",
    "    "
   ]
  },
  {
   "cell_type": "code",
   "execution_count": 6,
   "id": "130b4d2a",
   "metadata": {},
   "outputs": [
    {
     "name": "stdout",
     "output_type": "stream",
     "text": [
      "\n",
      "------ YOUR CART ------\n",
      "brger: $10.00\n",
      "Your total is: $10.00\n",
      "\n",
      "\n",
      "------ YOUR CART ------\n",
      "brger: $10.00\n",
      "puzza: $10.25\n",
      "Your total is: $20.25\n",
      "\n",
      "\n",
      "------ YOUR CART ------\n",
      "brger: $10.00\n",
      "puzza: $10.25\n",
      "shawarma: $21.56\n",
      "Your total is: $41.81\n",
      "\n"
     ]
    }
   ],
   "source": [
    "foods = []\n",
    "prices = []\n",
    "total = 0\n",
    "\n",
    "while True:\n",
    "    food = input(\"Enter food item to buy (q to quit): \")\n",
    "    if food.lower() == 'q':\n",
    "        break\n",
    "    else:\n",
    "        price = float(input(f\"Enter price for {food}: $\"))\n",
    "        foods.append(food)\n",
    "        prices.append(price)\n",
    "\n",
    "    print(\"\\n------ YOUR CART ------\")\n",
    "    total = 0  # Reset total before recalculating\n",
    "    for food, price in zip(foods, prices):\n",
    "        print(f\"{food}: ${price:.2f}\")\n",
    "        total += price\n",
    "\n",
    "    print(f\"Your total is: ${total:.2f}\\n\")\n"
   ]
  }
 ],
 "metadata": {
  "kernelspec": {
   "display_name": "awfera",
   "language": "python",
   "name": "python3"
  },
  "language_info": {
   "codemirror_mode": {
    "name": "ipython",
    "version": 3
   },
   "file_extension": ".py",
   "mimetype": "text/x-python",
   "name": "python",
   "nbconvert_exporter": "python",
   "pygments_lexer": "ipython3",
   "version": "3.10.16"
  }
 },
 "nbformat": 4,
 "nbformat_minor": 5
}
